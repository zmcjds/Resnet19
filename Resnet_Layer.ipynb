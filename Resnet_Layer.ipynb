{
 "cells": [
  {
   "cell_type": "code",
   "execution_count": 9,
   "id": "d247409e",
   "metadata": {},
   "outputs": [],
   "source": [
    "import tensorflow as tf\n",
    "from tensorflow import keras\n",
    "from tensorflow.keras import layers, optimizers, datasets\n",
    "class resnet_block(tf.keras.layers.Layer):\n",
    "    def __init__(self,firststrides,filters,**kwargs):\n",
    "        super(resnet_block,self).__init__(**kwargs)\n",
    "        self.C=layers.Conv2D(filters=filters,kernel_size=(1,1),strides=firststrides,padding=\"same\")\n",
    "        self.C1=layers.Conv2D(filters=filters,kernel_size=(3,3),strides=firststrides,padding=\"same\")\n",
    "        self.B2=layers.BatchNormalization()\n",
    "        self.R3=layers.ReLU()\n",
    "        self.C4=layers.Conv2D(filters=filters,kernel_size=(3,3),padding=\"same\")\n",
    "        self.B5=layers.BatchNormalization()\n",
    "        self.A6=layers.Add()\n",
    "        self.R7=layers.ReLU()\n",
    "    def call(self,input):\n",
    "        x=self.C1(input)\n",
    "        y=self.C(input)\n",
    "        x=self.B2(x)\n",
    "        x=self.R3(x)\n",
    "        x=self.C4(x)\n",
    "        x=self.B5(x)\n",
    "        x=self.A6([x,y])\n",
    "        x=self.R7(x)\n",
    "        return x"
   ]
  },
  {
   "cell_type": "code",
   "execution_count": null,
   "id": "ddb22cec",
   "metadata": {},
   "outputs": [],
   "source": []
  }
 ],
 "metadata": {
  "kernelspec": {
   "display_name": "Python 3 (ipykernel)",
   "language": "python",
   "name": "python3"
  },
  "language_info": {
   "codemirror_mode": {
    "name": "ipython",
    "version": 3
   },
   "file_extension": ".py",
   "mimetype": "text/x-python",
   "name": "python",
   "nbconvert_exporter": "python",
   "pygments_lexer": "ipython3",
   "version": "3.11.4"
  }
 },
 "nbformat": 4,
 "nbformat_minor": 5
}

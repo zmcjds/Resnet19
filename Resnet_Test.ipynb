{
 "cells": [
  {
   "cell_type": "code",
   "execution_count": 1,
   "id": "a4d8e9ca",
   "metadata": {},
   "outputs": [],
   "source": [
    "import os\n",
    "os.environ['TF_CPP_MIN_LOG_LEVEL'] = '4'\n",
    "os.environ[\"CUDA_VISIBLE_DEVICES\"]=\" \"\n",
    "\n",
    "import numpy as np\n",
    "import tensorflow as tf\n",
    "from tensorflow import keras\n",
    "from tensorflow.keras import layers, optimizers, datasets\n",
    "from PIL import Image\n",
    "import matplotlib.pyplot as plt\n",
    "from tensorflow.keras.callbacks import EarlyStopping\n",
    "from tensorflow.keras.callbacks import ModelCheckpoint\n",
    "import matplotlib\n",
    "matplotlib.rc(\"font\",family='YouYuan')\n",
    "%run Resnet_Layer.ipynb"
   ]
  },
  {
   "cell_type": "code",
   "execution_count": 2,
   "id": "622d16a2",
   "metadata": {},
   "outputs": [
    {
     "name": "stdout",
     "output_type": "stream",
     "text": [
      "Found 26179 files belonging to 10 classes.\n",
      "Using 18326 files for training.\n",
      "Found 26179 files belonging to 10 classes.\n",
      "Using 7853 files for validation.\n"
     ]
    }
   ],
   "source": [
    "#dataset\n",
    "filepath=r\"C:\\Users\\Administrator\\Desktop\\study\\Datasets\\Kaggle\\archive\\raw-img\"\n",
    "train_dataset = tf.keras.preprocessing.image_dataset_from_directory(filepath, batch_size=18326,image_size = (224, 224), label_mode = \"int\", validation_split = .3, subset = \"training\", seed = 27)\n",
    "validation_dataset = tf.keras.preprocessing.image_dataset_from_directory(filepath, batch_size=7853,image_size = (224, 224), label_mode = \"int\", validation_split = .3, subset = \"validation\", seed = 27)\n",
    "for train_x,train_y in train_dataset:\n",
    "    train_x=train_x/255.0\n",
    "for validation_x,validation_y in validation_dataset:\n",
    "    validation_x=validation_x/255.0\n",
    "\n",
    "train_dataset=tf.data.Dataset.from_tensor_slices((train_x,train_y))\n",
    "validation_dataset = tf.data.Dataset.from_tensor_slices((validation_x,validation_y))\n",
    "train_dataset=train_dataset.shuffle(buffer_size=20000).batch(200)\n",
    "validation_dataset=validation_dataset.shuffle(buffer_size=20000).batch(200)"
   ]
  },
  {
   "cell_type": "code",
   "execution_count": 5,
   "id": "9c9d5b79",
   "metadata": {},
   "outputs": [],
   "source": [
    "res1=resnet_block(1,64)\n",
    "res2=resnet_block(1,64)\n",
    "res3=resnet_block(2,128)\n",
    "res4=resnet_block(1,128)\n",
    "res5=resnet_block(2,256)\n",
    "res6=resnet_block(1,256)\n",
    "res7=resnet_block(2,512)\n",
    "res8=resnet_block(1,512)\n",
    "\n",
    "input=keras.Input(shape=(224,224,3))\n",
    "C1=layers.Conv2D(filters=64,kernel_size=(7,7),strides=2,padding=\"same\",activation=\"relu\")(input)\n",
    "P2=layers.MaxPool2D(pool_size=(3,3),strides=2,padding=\"same\")(C1)\n",
    "B2=layers.BatchNormalization()(P2)\n",
    "R3=res1(B2)\n",
    "R4=res2(R3)\n",
    "R5=res3(R4)\n",
    "R6=res4(R5)\n",
    "R7=res5(R6)\n",
    "R8=res6(R7)\n",
    "R9=res7(R8)\n",
    "R10=res8(R9)\n",
    "P11=layers.AveragePooling2D(pool_size=(7,7),padding=\"same\")(R10)\n",
    "F12=layers.Flatten()(P11)\n",
    "F13=layers.Dropout(rate=0.5)(F12)\n",
    "output=layers.Dense(10,activation=\"softmax\")(F12)\n",
    "Resnet19=keras.Model(inputs=input,outputs=output)\n",
    "optimizer = optimizers.Adam(learning_rate=0.001,weight_decay=0.001)\n",
    "Resnet19.compile(optimizer=optimizer,loss='sparse_categorical_crossentropy',metrics=['accuracy'])\n",
    "model_checkpoint=ModelCheckpoint(\"Resnet19.keras\",save_best_only=True)\n",
    "early_stopping=EarlyStopping(monitor='val_loss',patience=5,restore_best_weights=True)"
   ]
  },
  {
   "cell_type": "code",
   "execution_count": 6,
   "id": "4eb9fdea",
   "metadata": {},
   "outputs": [
    {
     "name": "stdout",
     "output_type": "stream",
     "text": [
      "Epoch 1/50\n",
      "\u001b[1m92/92\u001b[0m \u001b[32m━━━━━━━━━━━━━━━━━━━━\u001b[0m\u001b[37m\u001b[0m \u001b[1m1269s\u001b[0m 13s/step - accuracy: 0.2535 - loss: 2.1861 - val_accuracy: 0.0890 - val_loss: 14.4349\n",
      "Epoch 2/50\n",
      "\u001b[1m92/92\u001b[0m \u001b[32m━━━━━━━━━━━━━━━━━━━━\u001b[0m\u001b[37m\u001b[0m \u001b[1m1220s\u001b[0m 13s/step - accuracy: 0.4206 - loss: 1.6374 - val_accuracy: 0.2211 - val_loss: 2.8052\n",
      "Epoch 3/50\n",
      "\u001b[1m92/92\u001b[0m \u001b[32m━━━━━━━━━━━━━━━━━━━━\u001b[0m\u001b[37m\u001b[0m \u001b[1m1219s\u001b[0m 13s/step - accuracy: 0.5091 - loss: 1.4149 - val_accuracy: 0.2468 - val_loss: 2.3694\n",
      "Epoch 4/50\n",
      "\u001b[1m92/92\u001b[0m \u001b[32m━━━━━━━━━━━━━━━━━━━━\u001b[0m\u001b[37m\u001b[0m \u001b[1m1215s\u001b[0m 13s/step - accuracy: 0.5833 - loss: 1.1991 - val_accuracy: 0.2645 - val_loss: 3.3508\n",
      "Epoch 5/50\n",
      "\u001b[1m92/92\u001b[0m \u001b[32m━━━━━━━━━━━━━━━━━━━━\u001b[0m\u001b[37m\u001b[0m \u001b[1m1217s\u001b[0m 13s/step - accuracy: 0.6470 - loss: 1.0213 - val_accuracy: 0.3360 - val_loss: 2.7131\n",
      "Epoch 6/50\n",
      "\u001b[1m92/92\u001b[0m \u001b[32m━━━━━━━━━━━━━━━━━━━━\u001b[0m\u001b[37m\u001b[0m \u001b[1m1224s\u001b[0m 13s/step - accuracy: 0.6991 - loss: 0.8721 - val_accuracy: 0.3555 - val_loss: 2.7329\n",
      "Epoch 7/50\n",
      "\u001b[1m92/92\u001b[0m \u001b[32m━━━━━━━━━━━━━━━━━━━━\u001b[0m\u001b[37m\u001b[0m \u001b[1m1218s\u001b[0m 13s/step - accuracy: 0.7386 - loss: 0.7536 - val_accuracy: 0.5659 - val_loss: 1.4397\n",
      "Epoch 8/50\n",
      "\u001b[1m92/92\u001b[0m \u001b[32m━━━━━━━━━━━━━━━━━━━━\u001b[0m\u001b[37m\u001b[0m \u001b[1m1228s\u001b[0m 13s/step - accuracy: 0.7762 - loss: 0.6531 - val_accuracy: 0.6697 - val_loss: 1.0337\n",
      "Epoch 9/50\n",
      "\u001b[1m92/92\u001b[0m \u001b[32m━━━━━━━━━━━━━━━━━━━━\u001b[0m\u001b[37m\u001b[0m \u001b[1m1232s\u001b[0m 13s/step - accuracy: 0.8153 - loss: 0.5488 - val_accuracy: 0.5872 - val_loss: 1.3170\n",
      "Epoch 10/50\n",
      "\u001b[1m92/92\u001b[0m \u001b[32m━━━━━━━━━━━━━━━━━━━━\u001b[0m\u001b[37m\u001b[0m \u001b[1m1218s\u001b[0m 13s/step - accuracy: 0.8408 - loss: 0.4638 - val_accuracy: 0.6771 - val_loss: 1.0496\n",
      "Epoch 11/50\n",
      "\u001b[1m92/92\u001b[0m \u001b[32m━━━━━━━━━━━━━━━━━━━━\u001b[0m\u001b[37m\u001b[0m \u001b[1m1217s\u001b[0m 13s/step - accuracy: 0.8828 - loss: 0.3524 - val_accuracy: 0.6280 - val_loss: 1.4498\n",
      "Epoch 12/50\n",
      "\u001b[1m92/92\u001b[0m \u001b[32m━━━━━━━━━━━━━━━━━━━━\u001b[0m\u001b[37m\u001b[0m \u001b[1m1220s\u001b[0m 13s/step - accuracy: 0.9099 - loss: 0.2688 - val_accuracy: 0.6378 - val_loss: 1.2876\n",
      "Epoch 13/50\n",
      "\u001b[1m92/92\u001b[0m \u001b[32m━━━━━━━━━━━━━━━━━━━━\u001b[0m\u001b[37m\u001b[0m \u001b[1m1216s\u001b[0m 13s/step - accuracy: 0.9207 - loss: 0.2333 - val_accuracy: 0.6251 - val_loss: 1.4449\n"
     ]
    },
    {
     "data": {
      "image/png": "[encoded data removed]",
      "text/plain": [
       "<Figure size 640x480 with 1 Axes>"
      ]
     },
     "metadata": {},
     "output_type": "display_data"
    }
   ],
   "source": [
    "tf.config.run_functions_eagerly(True)\n",
    "history=Resnet19.fit(train_dataset,epochs=50,\n",
    "                         validation_data=validation_dataset,\n",
    "                         shuffle=True,callbacks=[model_checkpoint,early_stopping])\n",
    "train_acc=history.history['accuracy']\n",
    "vali_acc=history.history['val_accuracy']\n",
    "plt.plot(train_acc,label=\"train_acc\")\n",
    "plt.plot(vali_acc,label=\"val_acc\")\n",
    "plt.legend()\n",
    "plt.show()"
   ]
  },
  {
   "cell_type": "code",
   "execution_count": null,
   "id": "185acf65",
   "metadata": {},
   "outputs": [],
   "source": []
  }
 ],
 "metadata": {
  "kernelspec": {
   "display_name": "Python 3 (ipykernel)",
   "language": "python",
   "name": "python3"
  },
  "language_info": {
   "codemirror_mode": {
    "name": "ipython",
    "version": 3
   },
   "file_extension": ".py",
   "mimetype": "text/x-python",
   "name": "python",
   "nbconvert_exporter": "python",
   "pygments_lexer": "ipython3",
   "version": "3.11.4"
  }
 },
 "nbformat": 4,
 "nbformat_minor": 5
}
